{
 "cells": [
  {
   "cell_type": "code",
   "execution_count": 5,
   "metadata": {},
   "outputs": [
    {
     "data": {
      "text/plain": [
       "'/home/arno/Projects/Pint3D/print_ngp/util/sceneWistProcess'"
      ]
     },
     "execution_count": 5,
     "metadata": {},
     "output_type": "execute_result"
    }
   ],
   "source": [
    "%pwd"
   ]
  },
  {
   "cell_type": "code",
   "execution_count": 24,
   "metadata": {},
   "outputs": [],
   "source": [
    "import numpy as np\n",
    "from tqdm import tqdm\n"
   ]
  },
  {
   "cell_type": "markdown",
   "metadata": {},
   "source": [
    "棕榆树"
   ]
  },
  {
   "cell_type": "code",
   "execution_count": 26,
   "metadata": {},
   "outputs": [],
   "source": [
    "DataPath=\"/home/arno/Projects/Pint3D/print_data/fern/volume/ngp_471/array/allData.npy\"\n",
    "data=np.load(DataPath)\n",
    "# data=np.flip(data, axis=0)"
   ]
  },
  {
   "cell_type": "code",
   "execution_count": 23,
   "metadata": {},
   "outputs": [
    {
     "data": {
      "text/plain": [
       "(2857, 383, 408, 4)"
      ]
     },
     "execution_count": 23,
     "metadata": {},
     "output_type": "execute_result"
    }
   ],
   "source": [
    "data.shape \n",
    "# -1.9~0.55对应2857长度\n",
    "#   玻璃大概在z=-0.27 这里"
   ]
  },
  {
   "cell_type": "code",
   "execution_count": null,
   "metadata": {},
   "outputs": [],
   "source": [
    "beforeTheGlass=data[:957,...]\n",
    "afterTheGlass=data[957:,...]\n",
    "#  afterTheGlass大概压缩到四分之一"
   ]
  },
  {
   "cell_type": "code",
   "execution_count": 25,
   "metadata": {},
   "outputs": [
    {
     "name": "stderr",
     "output_type": "stream",
     "text": [
      "100%|██████████| 475/475 [00:06<00:00, 72.91it/s]\n"
     ]
    }
   ],
   "source": [
    "# 沿着第一个axis，每次迭代切出四个切片，叠加这四个切片\n",
    "volumeBeyondTheGlass = data[957:, :, :, :].astype(np.float32)\n",
    "statckHeight=4\n",
    "new_depth = volumeBeyondTheGlass.shape[0] // statckHeight  # 每次迭代切出四个切片\n",
    "small = np.zeros((new_depth, volumeBeyondTheGlass.shape[1], volumeBeyondTheGlass.shape[2], volumeBeyondTheGlass.shape[3]))\n",
    "\n",
    "\n",
    "for i in tqdm(range(0, volumeBeyondTheGlass.shape[0], statckHeight)):\n",
    "    # 获取当前四个切片\n",
    "    slices = volumeBeyondTheGlass[i:i+statckHeight :, :, :]\n",
    "    # 分离RGB和D通道\n",
    "    rgb_slices = slices[..., :3]\n",
    "    d_slices = slices[..., 3]\n",
    "    \n",
    "    # 计算D通道的和\n",
    "    d_sum = np.sum(d_slices, axis=0)\n",
    "    # 避免除以零的情况\n",
    "    d_sum[d_sum == 0] = 1e-8\n",
    "    weight = np.zeros_like(d_slices)\n",
    "    for j in range(d_slices.shape[0]):\n",
    "        weight[j] = d_slices[j] / d_sum\n",
    "\n",
    "    \n",
    "        # 计算RGB通道的加权平均\n",
    "        weighted_rgb = rgb_slices[j] * weight[j][..., np.newaxis]\n",
    "        \n",
    "        # 合并RGB和D通道\n",
    "        small[i//statckHeight, :, :, :3] += weighted_rgb\n",
    "        \n",
    "    small[i//statckHeight, :, :, 3] = d_sum\n"
   ]
  },
  {
   "cell_type": "code",
   "execution_count": 27,
   "metadata": {},
   "outputs": [],
   "source": [
    "volume=data[:957, :, :, :]\n",
    "volume=np.concatenate([volume,small],axis=0)\n",
    "# volume=np.flip(volume, axis=0)\n",
    "# small=small[:150,:,:,:]\n",
    "# volume = np.flip(small, axis=0)\n",
    "\n",
    "np.save(DataPath, volume)\n"
   ]
  }
 ],
 "metadata": {
  "kernelspec": {
   "display_name": "print3DNerfCUDA124",
   "language": "python",
   "name": "python3"
  },
  "language_info": {
   "codemirror_mode": {
    "name": "ipython",
    "version": 3
   },
   "file_extension": ".py",
   "mimetype": "text/x-python",
   "name": "python",
   "nbconvert_exporter": "python",
   "pygments_lexer": "ipython3",
   "version": "3.11.0"
  }
 },
 "nbformat": 4,
 "nbformat_minor": 2
}
